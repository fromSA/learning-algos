{
 "cells": [
  {
   "cell_type": "code",
   "execution_count": 4,
   "id": "24cebca3",
   "metadata": {},
   "outputs": [
    {
     "name": "stdout",
     "output_type": "stream",
     "text": [
      "Final synaptic weight:  0.5\n"
     ]
    }
   ],
   "source": [
    "import random\n",
    "import numpy as np\n",
    "\n",
    "# Define the pre- and post-synaptic spike times\n",
    "pre_spike_times = [10, 20, 30]\n",
    "post_spike_times = [5, 15, 25, 35]\n",
    "\n",
    "# Initialize the synaptic weight\n",
    "weight = 0.5\n",
    "\n",
    "# Set the STDP parameters\n",
    "tau_plus = 20\n",
    "tau_minus = 20\n",
    "a_plus = 0.1\n",
    "a_minus = 0.1\n",
    "\n",
    "# Define the STDP function\n",
    "def stdp(pre_spike_time, post_spike_time, weight):\n",
    "    if pre_spike_time < post_spike_time:\n",
    "        weight += a_plus * np.exp(-(post_spike_time - pre_spike_time) / tau_plus)\n",
    "    elif pre_spike_time > post_spike_time:\n",
    "        weight -= a_minus * np.exp(-(pre_spike_time - post_spike_time) / tau_minus)\n",
    "    return weight\n",
    "\n",
    "# Update the synaptic weight based on pre- and post-synaptic spike times\n",
    "for i in range(len(pre_spike_times)):\n",
    "    for j in range(len(post_spike_times)):\n",
    "        weight = stdp(pre_spike_times[i], post_spike_times[j], weight)\n",
    "\n",
    "print(\"Final synaptic weight: \", weight)"
   ]
  },
  {
   "cell_type": "markdown",
   "id": "703de917",
   "metadata": {},
   "source": [
    "The runtime of the code is O(N^2), where N is the total number of pre- and post-synaptic spike times. This is because the code contains a nested loop that iterates over all possible combinations of pre- and post-synaptic spike times, resulting in N * N total iterations.\n",
    "\n"
   ]
  },
  {
   "cell_type": "markdown",
   "id": "ff2a9593",
   "metadata": {},
   "source": [
    "# Optimization\n",
    "there are several techniques that can be used to optimize the implementation of STDP."
   ]
  },
  {
   "cell_type": "markdown",
   "id": "f5eca34c",
   "metadata": {},
   "source": [
    "###  Vectorization: \n",
    "Instead of iterating over each pair of pre- and post-synaptic spike times, we can use NumPy arrays to vectorize the calculation of the STDP function. This allows us to perform the calculation on all pairs of spikes simultaneously, which can significantly speed up the computation. Here is an example of how to vectorize the STDP calculation:"
   ]
  },
  {
   "cell_type": "code",
   "execution_count": 5,
   "id": "ea4ad21b",
   "metadata": {},
   "outputs": [
    {
     "name": "stdout",
     "output_type": "stream",
     "text": [
      "Final synaptic weight:  0.5\n"
     ]
    }
   ],
   "source": [
    "import numpy as np\n",
    "\n",
    "# Define the pre- and post-synaptic spike times\n",
    "pre_spike_times = np.array([10, 20, 30])\n",
    "post_spike_times = np.array([5, 15, 25, 35])\n",
    "\n",
    "# Initialize the synaptic weight\n",
    "weight = 0.5\n",
    "\n",
    "# Set the STDP parameters\n",
    "tau_plus = 20\n",
    "tau_minus = 20\n",
    "a_plus = 0.1\n",
    "a_minus = 0.1\n",
    "\n",
    "# Calculate the time differences between pre- and post-synaptic spikes\n",
    "delta_t = np.subtract.outer(pre_spike_times, post_spike_times)\n",
    "\n",
    "# Calculate the weight change for each pair of spikes\n",
    "weight_change = np.where(delta_t < 0, a_plus * np.exp(delta_t / tau_plus), -a_minus * np.exp(-delta_t / tau_minus))\n",
    "\n",
    "# Sum the weight changes to get the final weight\n",
    "weight += np.sum(weight_change)\n",
    "\n",
    "print(\"Final synaptic weight: \", weight)"
   ]
  },
  {
   "cell_type": "markdown",
   "id": "40cfc0c4",
   "metadata": {},
   "source": [
    "### parallelization\n",
    "The idea behind parallelization is to split the computation across multiple processor cores or machines, so that multiple calculations can be performed simultaneously. This can significantly reduce the overall runtime of the computation."
   ]
  },
  {
   "cell_type": "code",
   "execution_count": 7,
   "id": "7a755784",
   "metadata": {},
   "outputs": [
    {
     "name": "stdout",
     "output_type": "stream",
     "text": [
      "Final synaptic weight:  0.5\n"
     ]
    }
   ],
   "source": [
    "import numpy as np\n",
    "\n",
    "# Define the pre- and post-synaptic spike times\n",
    "pre_spike_times = [10, 20, 30]\n",
    "post_spike_times = [5, 15, 25, 35]\n",
    "\n",
    "# Initialize the synaptic weight\n",
    "weight = 0.5\n",
    "\n",
    "# Set the STDP parameters\n",
    "tau_plus = 20\n",
    "tau_minus = 20\n",
    "a_plus = 0.1\n",
    "a_minus = 0.1\n",
    "\n",
    "# Define the STDP function\n",
    "def stdp(pre_spike_time, post_spike_time):\n",
    "    global weight\n",
    "    delta_t = post_spike_time - pre_spike_time\n",
    "    if delta_t > 0:\n",
    "        weight += a_plus * np.exp(-delta_t / tau_plus)\n",
    "    elif delta_t < 0:\n",
    "        weight -= a_minus * np.exp(delta_t / tau_minus)\n",
    "\n",
    "# Compute the weight changes for each pair of spikes\n",
    "for pre_spike_time in pre_spike_times:\n",
    "    for post_spike_time in post_spike_times:\n",
    "        stdp(pre_spike_time, post_spike_time)\n",
    "\n",
    "print(\"Final synaptic weight: \", weight)"
   ]
  },
  {
   "cell_type": "markdown",
   "id": "6807e026",
   "metadata": {},
   "source": [
    "###  GPU acceleration\n",
    "This involves using a graphics processing unit (GPU) to perform the computations in parallel, which can provide a significant speedup compared to running the computations on a CPU. The TensorFlow and PyTorch libraries provide easy ways to perform GPU-accelerated computations in Python.\n",
    "\n",
    "You need this: \n",
    "\n",
    "pip install torch torchvision torchaudio -f https://download.pytorch.org/whl/cu111/torch_stable.html"
   ]
  },
  {
   "cell_type": "code",
   "execution_count": 8,
   "id": "ce7b917e",
   "metadata": {},
   "outputs": [
    {
     "ename": "AssertionError",
     "evalue": "Torch not compiled with CUDA enabled",
     "output_type": "error",
     "traceback": [
      "\u001b[0;31m---------------------------------------------------------------------------\u001b[0m",
      "\u001b[0;31mAssertionError\u001b[0m                            Traceback (most recent call last)",
      "\u001b[0;32m<ipython-input-8-c30a7996e635>\u001b[0m in \u001b[0;36m<module>\u001b[0;34m\u001b[0m\n\u001b[1;32m      6\u001b[0m \u001b[0;34m\u001b[0m\u001b[0m\n\u001b[1;32m      7\u001b[0m \u001b[0;31m# Initialize the synaptic weight on the GPU\u001b[0m\u001b[0;34m\u001b[0m\u001b[0;34m\u001b[0m\u001b[0;34m\u001b[0m\u001b[0m\n\u001b[0;32m----> 8\u001b[0;31m \u001b[0mweight\u001b[0m \u001b[0;34m=\u001b[0m \u001b[0mtorch\u001b[0m\u001b[0;34m.\u001b[0m\u001b[0mtensor\u001b[0m\u001b[0;34m(\u001b[0m\u001b[0;36m0.5\u001b[0m\u001b[0;34m,\u001b[0m \u001b[0mdtype\u001b[0m\u001b[0;34m=\u001b[0m\u001b[0mtorch\u001b[0m\u001b[0;34m.\u001b[0m\u001b[0mfloat32\u001b[0m\u001b[0;34m,\u001b[0m \u001b[0mdevice\u001b[0m\u001b[0;34m=\u001b[0m\u001b[0;34m\"cuda\"\u001b[0m\u001b[0;34m)\u001b[0m\u001b[0;34m\u001b[0m\u001b[0;34m\u001b[0m\u001b[0m\n\u001b[0m\u001b[1;32m      9\u001b[0m \u001b[0;34m\u001b[0m\u001b[0m\n\u001b[1;32m     10\u001b[0m \u001b[0;31m# Set the STDP parameters\u001b[0m\u001b[0;34m\u001b[0m\u001b[0;34m\u001b[0m\u001b[0;34m\u001b[0m\u001b[0m\n",
      "\u001b[0;32m~/opt/anaconda3/lib/python3.8/site-packages/torch/cuda/__init__.py\u001b[0m in \u001b[0;36m_lazy_init\u001b[0;34m()\u001b[0m\n\u001b[1;32m    164\u001b[0m                 \"Cannot re-initialize CUDA in forked subprocess. \" + msg)\n\u001b[1;32m    165\u001b[0m         \u001b[0;32mif\u001b[0m \u001b[0;32mnot\u001b[0m \u001b[0mhasattr\u001b[0m\u001b[0;34m(\u001b[0m\u001b[0mtorch\u001b[0m\u001b[0;34m.\u001b[0m\u001b[0m_C\u001b[0m\u001b[0;34m,\u001b[0m \u001b[0;34m'_cuda_getDeviceCount'\u001b[0m\u001b[0;34m)\u001b[0m\u001b[0;34m:\u001b[0m\u001b[0;34m\u001b[0m\u001b[0;34m\u001b[0m\u001b[0m\n\u001b[0;32m--> 166\u001b[0;31m             \u001b[0;32mraise\u001b[0m \u001b[0mAssertionError\u001b[0m\u001b[0;34m(\u001b[0m\u001b[0;34m\"Torch not compiled with CUDA enabled\"\u001b[0m\u001b[0;34m)\u001b[0m\u001b[0;34m\u001b[0m\u001b[0;34m\u001b[0m\u001b[0m\n\u001b[0m\u001b[1;32m    167\u001b[0m         \u001b[0;32mif\u001b[0m \u001b[0m_cudart\u001b[0m \u001b[0;32mis\u001b[0m \u001b[0;32mNone\u001b[0m\u001b[0;34m:\u001b[0m\u001b[0;34m\u001b[0m\u001b[0;34m\u001b[0m\u001b[0m\n\u001b[1;32m    168\u001b[0m             raise AssertionError(\n",
      "\u001b[0;31mAssertionError\u001b[0m: Torch not compiled with CUDA enabled"
     ]
    }
   ],
   "source": [
    "import torch\n",
    "\n",
    "# Define the pre- and post-synaptic spike times\n",
    "pre_spike_times = [10, 20, 30]\n",
    "post_spike_times = [5, 15, 25, 35]\n",
    "\n",
    "# Initialize the synaptic weight on the GPU\n",
    "weight = torch.tensor(0.5, dtype=torch.float32, device=\"cuda\")\n",
    "\n",
    "# Set the STDP parameters\n",
    "tau_plus = 20\n",
    "tau_minus = 20\n",
    "a_plus = 0.1\n",
    "a_minus = 0.1\n",
    "\n",
    "# Define the STDP function on the GPU\n",
    "@torch.jit.script\n",
    "def stdp(pre_spike_time, post_spike_time, weight):\n",
    "    delta_t = post_spike_time - pre_spike_time\n",
    "    if delta_t > 0:\n",
    "        weight += a_plus * torch.exp(-delta_t / tau_plus)\n",
    "    elif delta_t < 0:\n",
    "        weight -= a_minus * torch.exp(delta_t / tau_minus)\n",
    "    return weight\n",
    "\n",
    "# Compute the weight changes for each pair of spikes on the GPU\n",
    "for pre_spike_time in pre_spike_times:\n",
    "    for post_spike_time in post_spike_times:\n",
    "        weight = stdp(torch.tensor(pre_spike_time, dtype=torch.float32, device=\"cuda\"), torch.tensor(post_spike_time, dtype=torch.float32, device=\"cuda\"), weight)\n",
    "\n",
    "# Move the final synaptic weight back to the CPU\n",
    "weight = weight.cpu().detach().numpy()\n",
    "\n",
    "print(\"Final synaptic weight: \", weight)"
   ]
  },
  {
   "cell_type": "code",
   "execution_count": null,
   "id": "120f6bee",
   "metadata": {},
   "outputs": [],
   "source": []
  }
 ],
 "metadata": {
  "kernelspec": {
   "display_name": "Python 3",
   "language": "python",
   "name": "python3"
  },
  "language_info": {
   "codemirror_mode": {
    "name": "ipython",
    "version": 3
   },
   "file_extension": ".py",
   "mimetype": "text/x-python",
   "name": "python",
   "nbconvert_exporter": "python",
   "pygments_lexer": "ipython3",
   "version": "3.8.8"
  }
 },
 "nbformat": 4,
 "nbformat_minor": 5
}
